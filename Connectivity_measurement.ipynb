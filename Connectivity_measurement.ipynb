{
 "cells": [
  {
   "cell_type": "code",
   "execution_count": 1,
   "id": "c3a79e32",
   "metadata": {},
   "outputs": [],
   "source": [
    "import networkx as nx\n",
    "import os\n",
    "import pandas as pd\n",
    "from tqdm import tqdm"
   ]
  },
  {
   "cell_type": "markdown",
   "id": "3a596fee",
   "metadata": {},
   "source": [
    "This code calculates average node connectivity for each district. You can visualizw values in the ArcGIS"
   ]
  },
  {
   "cell_type": "code",
   "execution_count": null,
   "id": "93bf5d1b",
   "metadata": {},
   "outputs": [],
   "source": [
    "input_path = input('Please, enter path to folder with shapefiles: ')\n",
    "output_path = input('Please, enter path and name of output csv file: ')\n",
    "numfiles = os.listdir(input_path)\n",
    "shapes = []\n",
    "namelist = []\n",
    "connectlist = []\n",
    "for element in numfiles:\n",
    "    el = os.path.splitext(element)[1]\n",
    "    if el == '.shp':\n",
    "        shapes.append(element)\n",
    "with tqdm(total=int(len(shapes))) as pbar:\n",
    "    for x in shapes:\n",
    "        roads = nx.read_shp(input_path+r'\\{0}'.format(x))\n",
    "        G = roads.to_undirected()\n",
    "        G.remove_edges_from(nx.selfloop_edges(G))\n",
    "        conn = nx.average_node_connectivity(G)\n",
    "        name = os.path.splitext(x)[0]\n",
    "        namelist.append(name)\n",
    "        connectlist.append(conn)\n",
    "        pbar.update(1)\n",
    "df = pd.DataFrame({'OKATO':namelist, 'Local_connectivity':connectlist})\n",
    "df.to_csv(output_path)"
   ]
  }
 ],
 "metadata": {
  "kernelspec": {
   "display_name": "Python 3 (ipykernel)",
   "language": "python",
   "name": "python3"
  },
  "language_info": {
   "codemirror_mode": {
    "name": "ipython",
    "version": 3
   },
   "file_extension": ".py",
   "mimetype": "text/x-python",
   "name": "python",
   "nbconvert_exporter": "python",
   "pygments_lexer": "ipython3",
   "version": "3.9.10"
  }
 },
 "nbformat": 4,
 "nbformat_minor": 5
}
